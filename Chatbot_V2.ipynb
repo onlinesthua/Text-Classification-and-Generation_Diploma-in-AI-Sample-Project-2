{
 "cells": [
  {
   "cell_type": "markdown",
   "metadata": {},
   "source": [
    "<h1>Chat Bot</h1>\n",
    "<h3>This is a basic project about NLP using Keras</h3>\n",
    "\n",
    "In this project we will be inplementing a sequence to sequence model from scratch that is capable of replying when prompted\n",
    "\n",
    "Common applications of a well trained NLP model will be:\n",
    "\n",
    "Eg. ChatGPT, AI chatbot in webpages, Writing elvation tools etc\n",
    "\n",
    "We will implement this project from scratch and take small steps to ensure understanding.\n",
    "\n",
    "<h3>Objectives:</h3>\n",
    "\n",
    "1. Setting up environment\n",
    "2. LSTM layer and Text classification\n",
    "    - Dataset seclection\n",
    "    - Data processing\n",
    "    - Modeling & Training\n",
    "    - Deployment\n",
    "3. Sequence to Sequence(Seq2Seq) modeling, text generation and chatbot\n",
    "    - Select datasets\n",
    "    - Dataset processing\n",
    "    - Modeling & Training\n",
    "    - Deployment\n",
    "\n"
   ]
  },
  {
   "cell_type": "markdown",
   "metadata": {},
   "source": [
    "**<h3>Section 1: Setting Up Environment</h3>**\n",
    "\n",
    "**For this project, we are using Python 3.11.7, aloneside with the following packages:**\n",
    "\n",
    "1. os\n",
    "2. yaml\n",
    "3. keras = ^2.15.0\n",
    "4. tensorflow = ^2.15.0\n",
    "5. tensorflow_text = ^2.15.0\n",
    "6. numpy = ^1.26.3\n",
    "\n",
    "**Use !pip install (package_name) if you do not have the packages**"
   ]
  },
  {
   "cell_type": "code",
   "execution_count": 2,
   "metadata": {},
   "outputs": [],
   "source": [
    "import numpy as np\n",
    "import tensorflow as tf\n",
    "import keras\n",
    "import os\n",
    "import yaml\n",
    "from keras.datasets import imdb"
   ]
  },
  {
   "cell_type": "markdown",
   "metadata": {},
   "source": [
    "<h3>Section 2: LSTM Layer & Text classification</h3>\n",
    "\n",
    "**In this section, we will explore the basic text sentiment classification task and explore the effect of Long Short Term Memory when dealing with text data**"
   ]
  },
  {
   "cell_type": "markdown",
   "metadata": {},
   "source": [
    "**<h4>Section 2.1: Data Selection</h4>**\n",
    "\n",
    "**For this task, we choose the IMBD dataset from keras** \n",
    "\n",
    "**IMBD is a preprocessed dataset containing mixed, labeled movie reviews, perfect for learning**\n",
    "\n",
    "**It contains 88584 unique words and those words form a vocabulary library, which is crucial for tokenising, a preprocessing technique that encodes text data into integer. which we will discuss more in section 3**"
   ]
  },
  {
   "cell_type": "code",
   "execution_count": 31,
   "metadata": {},
   "outputs": [],
   "source": [
    "SEN_VOCAB_SIZE = len(imdb.get_word_index()) #Check the size of the vocabulary, it is 88584\n",
    "MAXLEN = 250\n",
    "BATCH_SIZE = 64\n",
    "\n",
    "(train_data, train_labels), (test_data, test_labels) = imdb.load_data(num_words = SEN_VOCAB_SIZE, index_from=3)"
   ]
  },
  {
   "cell_type": "markdown",
   "metadata": {},
   "source": [
    "**Let us take a look at the training data, as we can see, the data is already tokenised**"
   ]
  },
  {
   "cell_type": "code",
   "execution_count": 33,
   "metadata": {},
   "outputs": [
    {
     "data": {
      "text/plain": [
       "[1,\n",
       " 14,\n",
       " 22,\n",
       " 16,\n",
       " 43,\n",
       " 530,\n",
       " 973,\n",
       " 1622,\n",
       " 1385,\n",
       " 65,\n",
       " 458,\n",
       " 4468,\n",
       " 66,\n",
       " 3941,\n",
       " 4,\n",
       " 173,\n",
       " 36,\n",
       " 256,\n",
       " 5,\n",
       " 25,\n",
       " 100,\n",
       " 43,\n",
       " 838,\n",
       " 112,\n",
       " 50,\n",
       " 670,\n",
       " 22665,\n",
       " 9,\n",
       " 35,\n",
       " 480,\n",
       " 284,\n",
       " 5,\n",
       " 150,\n",
       " 4,\n",
       " 172,\n",
       " 112,\n",
       " 167,\n",
       " 21631,\n",
       " 336,\n",
       " 385,\n",
       " 39,\n",
       " 4,\n",
       " 172,\n",
       " 4536,\n",
       " 1111,\n",
       " 17,\n",
       " 546,\n",
       " 38,\n",
       " 13,\n",
       " 447,\n",
       " 4,\n",
       " 192,\n",
       " 50,\n",
       " 16,\n",
       " 6,\n",
       " 147,\n",
       " 2025,\n",
       " 19,\n",
       " 14,\n",
       " 22,\n",
       " 4,\n",
       " 1920,\n",
       " 4613,\n",
       " 469,\n",
       " 4,\n",
       " 22,\n",
       " 71,\n",
       " 87,\n",
       " 12,\n",
       " 16,\n",
       " 43,\n",
       " 530,\n",
       " 38,\n",
       " 76,\n",
       " 15,\n",
       " 13,\n",
       " 1247,\n",
       " 4,\n",
       " 22,\n",
       " 17,\n",
       " 515,\n",
       " 17,\n",
       " 12,\n",
       " 16,\n",
       " 626,\n",
       " 18,\n",
       " 19193,\n",
       " 5,\n",
       " 62,\n",
       " 386,\n",
       " 12,\n",
       " 8,\n",
       " 316,\n",
       " 8,\n",
       " 106,\n",
       " 5,\n",
       " 4,\n",
       " 2223,\n",
       " 5244,\n",
       " 16,\n",
       " 480,\n",
       " 66,\n",
       " 3785,\n",
       " 33,\n",
       " 4,\n",
       " 130,\n",
       " 12,\n",
       " 16,\n",
       " 38,\n",
       " 619,\n",
       " 5,\n",
       " 25,\n",
       " 124,\n",
       " 51,\n",
       " 36,\n",
       " 135,\n",
       " 48,\n",
       " 25,\n",
       " 1415,\n",
       " 33,\n",
       " 6,\n",
       " 22,\n",
       " 12,\n",
       " 215,\n",
       " 28,\n",
       " 77,\n",
       " 52,\n",
       " 5,\n",
       " 14,\n",
       " 407,\n",
       " 16,\n",
       " 82,\n",
       " 10311,\n",
       " 8,\n",
       " 4,\n",
       " 107,\n",
       " 117,\n",
       " 5952,\n",
       " 15,\n",
       " 256,\n",
       " 4,\n",
       " 31050,\n",
       " 7,\n",
       " 3766,\n",
       " 5,\n",
       " 723,\n",
       " 36,\n",
       " 71,\n",
       " 43,\n",
       " 530,\n",
       " 476,\n",
       " 26,\n",
       " 400,\n",
       " 317,\n",
       " 46,\n",
       " 7,\n",
       " 4,\n",
       " 12118,\n",
       " 1029,\n",
       " 13,\n",
       " 104,\n",
       " 88,\n",
       " 4,\n",
       " 381,\n",
       " 15,\n",
       " 297,\n",
       " 98,\n",
       " 32,\n",
       " 2071,\n",
       " 56,\n",
       " 26,\n",
       " 141,\n",
       " 6,\n",
       " 194,\n",
       " 7486,\n",
       " 18,\n",
       " 4,\n",
       " 226,\n",
       " 22,\n",
       " 21,\n",
       " 134,\n",
       " 476,\n",
       " 26,\n",
       " 480,\n",
       " 5,\n",
       " 144,\n",
       " 30,\n",
       " 5535,\n",
       " 18,\n",
       " 51,\n",
       " 36,\n",
       " 28,\n",
       " 224,\n",
       " 92,\n",
       " 25,\n",
       " 104,\n",
       " 4,\n",
       " 226,\n",
       " 65,\n",
       " 16,\n",
       " 38,\n",
       " 1334,\n",
       " 88,\n",
       " 12,\n",
       " 16,\n",
       " 283,\n",
       " 5,\n",
       " 16,\n",
       " 4472,\n",
       " 113,\n",
       " 103,\n",
       " 32,\n",
       " 15,\n",
       " 16,\n",
       " 5345,\n",
       " 19,\n",
       " 178,\n",
       " 32]"
      ]
     },
     "execution_count": 33,
     "metadata": {},
     "output_type": "execute_result"
    }
   ],
   "source": [
    "train_data[0]\n"
   ]
  },
  {
   "cell_type": "markdown",
   "metadata": {},
   "source": [
    "**To view the origincal text, we need a decode function**\n",
    "\n",
    "**In this function, we will refer the integer index to the dictionary provided by the imdb dataset and return the corresponding words**"
   ]
  },
  {
   "cell_type": "code",
   "execution_count": 41,
   "metadata": {},
   "outputs": [
    {
     "name": "stdout",
     "output_type": "stream",
     "text": [
      "? this film was just brilliant casting location scenery story direction everyone's really suited the part they played and you could just imagine being there robert redford's is an amazing actor and now the same being director norman's father came from the same scottish island as myself so i loved the fact there was a real connection with this film the witty remarks throughout the film were great it was just brilliant so much that i bought the film as soon as it was released for retail and would recommend it to everyone to watch and the fly fishing was amazing really cried at the end it was so sad and you know what they say if you cry at a film it must have been good and this definitely was also congratulations to the two little boy's that played the part's of norman and paul they were just brilliant children are often left out of the praising list i think because the stars that play them all grown up are such a big profile for the whole film but these children are amazing and should be praised for what they have done don't you think the whole story was so lovely because it was true and was someone's life after all that was shared with us all\n"
     ]
    }
   ],
   "source": [
    "Vocabularies = imdb.get_word_index()\n",
    "Vocabularies = {k:(v+3) for k,v in Vocabularies.items()} #Shift the index of the words by 3 to make space for special characters, as imdb dataset start its indexing from 3\n",
    "Vocabularies[\"<PAD>\"] = 0\n",
    "\n",
    "def decoder(text):\n",
    "    reverse_word_index = dict([(value, key) for (key, value) in Vocabularies.items()]) #Reverse the word index\n",
    "    decoded_review = ' '.join([reverse_word_index.get(i, '?') for i in text if i != 0]) #Decode the review. If the word is not in the index, replace it with ?\n",
    "    print(decoded_review)\n",
    "    \n",
    "decoder(train_data[0])"
   ]
  },
  {
   "cell_type": "markdown",
   "metadata": {},
   "source": [
    "**<h4>Section 2.2: Data Processng</h4>**\n",
    "\n",
    "**Since the dataset is already cleaned and preprocessed, there are minimal steps to do**\n",
    "\n",
    "**We just have to pad all the train and test datas by adding 0s behind to make sure that everything fed to the neural network is the same shape**"
   ]
  },
  {
   "cell_type": "code",
   "execution_count": 5,
   "metadata": {},
   "outputs": [],
   "source": [
    "train_data = keras.preprocessing.sequence.pad_sequences(train_data, MAXLEN, padding='post')\n",
    "test_data = keras.preprocessing.sequence.pad_sequences(test_data, MAXLEN, padding='post')"
   ]
  },
  {
   "cell_type": "markdown",
   "metadata": {},
   "source": [
    "**<h4>Section 2.3: Modeling and Training</h4>**\n",
    "\n",
    "**Since the dataset is relatively small, we will try with a simple neural network**\n",
    "\n",
    "**In the sequential model, we need an embeding layer to represent the tokenised words into real valued vectors, this allows similar words to have a similar magnitude and direction**\n",
    "\n",
    "**Then we need a Long Short Term Memory Layer to remember the occurance and sequence of words appearing**\n",
    "\n",
    "**And finally a dense layer to output our binary prediction**"
   ]
  },
  {
   "cell_type": "code",
   "execution_count": 5,
   "metadata": {},
   "outputs": [
    {
     "name": "stdout",
     "output_type": "stream",
     "text": [
      "Model: \"sequential\"\n",
      "_________________________________________________________________\n",
      " Layer (type)                Output Shape              Param #   \n",
      "=================================================================\n",
      " embedding (Embedding)       (None, None, 32)          2834688   \n",
      "                                                                 \n",
      " lstm (LSTM)                 (None, 32)                8320      \n",
      "                                                                 \n",
      " dense (Dense)               (None, 1)                 33        \n",
      "                                                                 \n",
      "=================================================================\n",
      "Total params: 2843041 (10.85 MB)\n",
      "Trainable params: 2843041 (10.85 MB)\n",
      "Non-trainable params: 0 (0.00 Byte)\n",
      "_________________________________________________________________\n"
     ]
    }
   ],
   "source": [
    "model = keras.Sequential([\n",
    "    keras.layers.Embedding(SEN_VOCAB_SIZE, 32),\n",
    "    keras.layers.LSTM(32),\n",
    "    keras.layers.Dense(1, activation=\"sigmoid\")\n",
    "])\n",
    "model.summary()"
   ]
  },
  {
   "cell_type": "markdown",
   "metadata": {},
   "source": [
    "We can visualise our model to get a better insight"
   ]
  },
  {
   "cell_type": "code",
   "execution_count": 6,
   "metadata": {},
   "outputs": [
    {
     "data": {
      "image/png": "[encoded data removed]",
      "text/plain": [
       "<IPython.core.display.Image object>"
      ]
     },
     "execution_count": 6,
     "metadata": {},
     "output_type": "execute_result"
    }
   ],
   "source": [
    "keras.utils.plot_model(model, show_shapes=True)"
   ]
  },
  {
   "cell_type": "code",
   "execution_count": 7,
   "metadata": {},
   "outputs": [],
   "source": [
    "model.compile(loss=\"binary_crossentropy\",optimizer=\"rmsprop\",metrics=['acc'])\n"
   ]
  },
  {
   "cell_type": "markdown",
   "metadata": {},
   "source": [
    "**Unlike image classification, we do not have all the preprocessing techniques like augmentations to help with overfitting**\n",
    "\n",
    "**Thus to prevent overfitting, we will be introducing an early stopping criteria. In this case, we will stop the training if the validation loss no longer decreases for 3 consecetive episodes** "
   ]
  },
  {
   "cell_type": "code",
   "execution_count": 8,
   "metadata": {},
   "outputs": [
    {
     "name": "stdout",
     "output_type": "stream",
     "text": [
      "Epoch 1/10\n",
      "547/547 [==============================] - 15s 27ms/step - loss: 0.6592 - acc: 0.5965 - val_loss: 0.4908 - val_acc: 0.7992\n",
      "Epoch 2/10\n",
      "547/547 [==============================] - 15s 27ms/step - loss: 0.4814 - acc: 0.8048 - val_loss: 0.4080 - val_acc: 0.8451\n",
      "Epoch 3/10\n",
      "547/547 [==============================] - 15s 27ms/step - loss: 0.3668 - acc: 0.8721 - val_loss: 0.3568 - val_acc: 0.8620\n",
      "Epoch 4/10\n",
      "547/547 [==============================] - 15s 27ms/step - loss: 0.2977 - acc: 0.8992 - val_loss: 0.3475 - val_acc: 0.8747\n",
      "Epoch 5/10\n",
      "547/547 [==============================] - 15s 27ms/step - loss: 0.2558 - acc: 0.9094 - val_loss: 0.3109 - val_acc: 0.8707\n",
      "Epoch 6/10\n",
      "547/547 [==============================] - 16s 28ms/step - loss: 0.2347 - acc: 0.9127 - val_loss: 0.5094 - val_acc: 0.8520\n",
      "Epoch 7/10\n",
      "547/547 [==============================] - 15s 28ms/step - loss: 0.2156 - acc: 0.9273 - val_loss: 0.3473 - val_acc: 0.8743\n",
      "Epoch 8/10\n",
      "547/547 [==============================] - 15s 27ms/step - loss: 0.2064 - acc: 0.9361 - val_loss: 0.5031 - val_acc: 0.8148\n"
     ]
    }
   ],
   "source": [
    "early_stopping = keras.callbacks.EarlyStopping(\n",
    "    patience=3,\n",
    "    monitor='val_loss',\n",
    "    restore_best_weights=True,\n",
    ")\n",
    "history = model.fit(train_data, train_labels, epochs=10, validation_split=0.3, callbacks=[early_stopping])"
   ]
  },
  {
   "cell_type": "code",
   "execution_count": 35,
   "metadata": {},
   "outputs": [],
   "source": [
    "model.save(\"sentiment_model.keras\")"
   ]
  },
  {
   "cell_type": "markdown",
   "metadata": {},
   "source": [
    "**<h4>Section 2.4: Deployment</h4>**\n",
    "\n",
    "**Now that we have trained our model, it is time to put the model into test**\n",
    "\n",
    "**In order to use our model for prediction, we must first process our inputs by tokenising them and pad them to correct length**\n",
    "\n",
    "**Using the same vocabularies that we get earlier, we can tokenise our inputs by replacing each word with its integer index in the vocabularies**"
   ]
  },
  {
   "cell_type": "code",
   "execution_count": 42,
   "metadata": {},
   "outputs": [
    {
     "name": "stdout",
     "output_type": "stream",
     "text": [
      "[ 15  20  16  43 480  38 480   0   0   0   0   0   0   0   0   0   0   0\n",
      "   0   0   0   0   0   0   0   0   0   0   0   0   0   0   0   0   0   0\n",
      "   0   0   0   0   0   0   0   0   0   0   0   0   0   0   0   0   0   0\n",
      "   0   0   0   0   0   0   0   0   0   0   0   0   0   0   0   0   0   0\n",
      "   0   0   0   0   0   0   0   0   0   0   0   0   0   0   0   0   0   0\n",
      "   0   0   0   0   0   0   0   0   0   0   0   0   0   0   0   0   0   0\n",
      "   0   0   0   0   0   0   0   0   0   0   0   0   0   0   0   0   0   0\n",
      "   0   0   0   0   0   0   0   0   0   0   0   0   0   0   0   0   0   0\n",
      "   0   0   0   0   0   0   0   0   0   0   0   0   0   0   0   0   0   0\n",
      "   0   0   0   0   0   0   0   0   0   0   0   0   0   0   0   0   0   0\n",
      "   0   0   0   0   0   0   0   0   0   0   0   0   0   0   0   0   0   0\n",
      "   0   0   0   0   0   0   0   0   0   0   0   0   0   0   0   0   0   0\n",
      "   0   0   0   0   0   0   0   0   0   0   0   0   0   0   0   0   0   0\n",
      "   0   0   0   0   0   0   0   0   0   0   0   0   0   0   0   0]\n"
     ]
    }
   ],
   "source": [
    "def encode_text(text):\n",
    "  tokens = keras.preprocessing.text.text_to_word_sequence(text)\n",
    "  tokens = [Vocabularies[word] if word in Vocabularies else 0 for word in tokens]\n",
    "  return keras.preprocessing.sequence.pad_sequences([tokens], MAXLEN, padding=\"post\")[0]\n",
    "\n",
    "text = \"that movie was just amazing, so amazing\"\n",
    "encoded = encode_text(text)\n",
    "print(encoded)"
   ]
  },
  {
   "cell_type": "markdown",
   "metadata": {},
   "source": [
    "**We can view our encoded text with the same decoder that we have defined just now**"
   ]
  },
  {
   "cell_type": "code",
   "execution_count": 43,
   "metadata": {},
   "outputs": [
    {
     "name": "stdout",
     "output_type": "stream",
     "text": [
      "that movie was just amazing so amazing\n"
     ]
    }
   ],
   "source": [
    "decoder(encoded)"
   ]
  },
  {
   "cell_type": "markdown",
   "metadata": {},
   "source": [
    "**Lastly we need a prediction function to predict the sentiment of the review**\n",
    "\n",
    "**Since our neural network only outputs 1 input, it represent the confidence of the model on whether the review is positive**\n",
    "\n",
    "**Therefore if the output result is more than 0.5, we will conclude that the model predicts the review to be positive and vice versa**"
   ]
  },
  {
   "cell_type": "code",
   "execution_count": 12,
   "metadata": {},
   "outputs": [
    {
     "name": "stdout",
     "output_type": "stream",
     "text": [
      "1/1 [==============================] - 0s 12ms/step\n",
      "Positive\n",
      "1/1 [==============================] - 0s 11ms/step\n",
      "Negative\n"
     ]
    }
   ],
   "source": [
    "def predict(text):\n",
    "  encoded_text = encode_text(text)\n",
    "  pred = np.zeros((1,250))\n",
    "  pred[0] = encoded_text\n",
    "  result = model.predict(pred) \n",
    "  if result[0] > 0.5:\n",
    "    print(\"Positive\")\n",
    "  else:\n",
    "    print(\"Negative\")\n",
    "\n",
    "positive_review = \"I thought the movie was going to be bad, but it was actually great!\"\n",
    "predict(positive_review)\n",
    "\n",
    "negative_review = \"that movie really sucked. I hated it and wouldn't watch it again. Was one of the worst things I've ever watched\"\n",
    "predict(negative_review)"
   ]
  },
  {
   "cell_type": "markdown",
   "metadata": {},
   "source": []
  },
  {
   "cell_type": "markdown",
   "metadata": {},
   "source": [
    "<h3>Section 3: Sequence to Sequence Modeling, text generation and chatbot</h3>\n",
    "\n",
    "**Now that we are more or less clear with word embedding and LSTM layer, let us dive deeper to understand another concept**\n",
    "\n",
    "**Text generation is basically predicting the next probable word given base on the memory and current word** \n",
    "\n",
    "**Chat bot is but a word continuation that takes in additional context from question input**\n",
    "\n",
    "**In this section we will be exploring a more advance concept called Sequence to Sequence modeling to build our chatbot**"
   ]
  },
  {
   "cell_type": "markdown",
   "metadata": {},
   "source": [
    "**<h4>Section 3.1: Selecting Datasets</h4>**\n",
    "\n",
    "**For the training dataset, we will be using the chatterbot/english dataset on Kaggle.com by kausr25**\n",
    "\n",
    "**ALternatively, we can run the below cells to get the raw data from github**"
   ]
  },
  {
   "cell_type": "code",
   "execution_count": 43,
   "metadata": {},
   "outputs": [],
   "source": [
    "# !wget https://github.com/shubham0204/Dataset_Archives/blob/master/chatbot_nlp.zip?raw=true -O chatbot_nlp.zip\n",
    "# !unzip chatbot_nlp.zip"
   ]
  },
  {
   "cell_type": "markdown",
   "metadata": {},
   "source": [
    "**<h4>Section 3.2: Data Processing</h4>**\n",
    "\n",
    "**Let us start by loading our datasets.** \n",
    "\n",
    "**Since we downloaded the datasets into our local machine, we need the help of os to navigate around our files**"
   ]
  },
  {
   "cell_type": "code",
   "execution_count": 9,
   "metadata": {},
   "outputs": [
    {
     "name": "stdout",
     "output_type": "stream",
     "text": [
      "['have you read the communist', 'what is a government', 'what is greenpeace', 'what is capitalism', 'what is socialism']\n",
      "['yes, marx had made some interesting observations.', 'ideally it is a representative of the people.', 'global organization promoting enviornmental activism.', 'the economic system in which all or most of the means of production and distribution, as land, factories, railroads, etc., are privately owned and operated for profit, originally under fully competitive conditions.', 'communism from people who want to keep their volvos. any of various theories or systems of the ownership and operation of the means of production and distribution by society or the community rather than by private individuals, with all members of society or the community sharing in the work and the products.']\n"
     ]
    }
   ],
   "source": [
    "dir_path = 'chatbot_nlp/data'\n",
    "files_list = os.listdir(dir_path + os.sep) # os.sep adds the separator for the file path, we are getting a list of all the yaml files in the directory\n",
    "\n",
    "questions = list()\n",
    "answers = list()\n",
    "\n",
    "for filepath in files_list:\n",
    "    stream = open(dir_path + os.sep + filepath , 'rb')  #We are opening the file in read binary mode\n",
    "    docs = yaml.safe_load(stream)   #yaml.safe_load() is used to load the data from the yaml file\n",
    "    conversations = docs['conversations'] #To get the conversations from the yaml file\n",
    "    \n",
    "    #In the case of robots replying in more than sentences, we are combining them into one sentence\n",
    "    for con in conversations:\n",
    "        if len(con) > 2 :\n",
    "            questions.append(con[0])\n",
    "            replies = con[1: ]\n",
    "            ans = ''\n",
    "            for rep in replies:\n",
    "                ans += ' ' + rep\n",
    "            answers.append( ans )\n",
    "        elif len( con )> 1:\n",
    "            questions.append(con[0])\n",
    "            answers.append(con[1])\n",
    "\n",
    "#Visualises the questions and answers\n",
    "print(questions[:5])\n",
    "print(answers[:5])"
   ]
  },
  {
   "cell_type": "markdown",
   "metadata": {},
   "source": [
    "**For the purpose of smoothing training, we want to remove the question and answer pairs that the answer is too short**"
   ]
  },
  {
   "cell_type": "code",
   "execution_count": 10,
   "metadata": {},
   "outputs": [
    {
     "name": "stdout",
     "output_type": "stream",
     "text": [
      "['yes, marx had made some interesting observations.', 'ideally it is a representative of the people.', 'global organization promoting enviornmental activism.', 'the economic system in which all or most of the means of production and distribution, as land, factories, railroads, etc., are privately owned and operated for profit, originally under fully competitive conditions.', 'communism from people who want to keep their volvos. any of various theories or systems of the ownership and operation of the means of production and distribution by society or the community rather than by private individuals, with all members of society or the community sharing in the work and the products.']\n"
     ]
    }
   ],
   "source": [
    "proper_answers = list()\n",
    "for i in range(len(answers)):\n",
    "    if type(answers[i]) == str:\n",
    "        proper_answers.append(answers[i])\n",
    "    else:\n",
    "        questions.pop(i)\n",
    "        \n",
    "print(proper_answers[:5])"
   ]
  },
  {
   "cell_type": "markdown",
   "metadata": {},
   "source": [
    "**We should also add a start and end token to our answers and the machine can use those as indications whether a sentence has started or ended**"
   ]
  },
  {
   "cell_type": "code",
   "execution_count": 11,
   "metadata": {},
   "outputs": [
    {
     "name": "stdout",
     "output_type": "stream",
     "text": [
      "['<START>yes, marx had made some interesting observations.<END>', '<START>ideally it is a representative of the people.<END>', '<START>global organization promoting enviornmental activism.<END>', '<START>the economic system in which all or most of the means of production and distribution, as land, factories, railroads, etc., are privately owned and operated for profit, originally under fully competitive conditions.<END>', '<START>communism from people who want to keep their volvos. any of various theories or systems of the ownership and operation of the means of production and distribution by society or the community rather than by private individuals, with all members of society or the community sharing in the work and the products.<END>']\n"
     ]
    }
   ],
   "source": [
    "answers = list()\n",
    "for i in range(len(proper_answers)) :\n",
    "    answers.append('<START>' + proper_answers[i] + '<END>')\n",
    "\n",
    "print(answers[:5])"
   ]
  },
  {
   "cell_type": "markdown",
   "metadata": {},
   "source": [
    "**In order to pass the text data into the neural network for training, we have to convert them into numbers**\n",
    "\n",
    "**Luckily, keras do provide a tokeniser function to do the job for us**\n",
    "\n",
    "**Tokeniser works by refering a word passed into it to a vocabulary list and returns the indices of the word in the list**\n",
    "\n",
    "**For example, if the tokeniser have a vocabulary [let's, us, go, above, higher]. The string \"Let's go higher\" passed into the tokeniser will generate return [0,2,4]**\n",
    "\n",
    "**To use the tokeniser, first we need to generate a vocabulary list by including every word appeared in all question and answer pairs**"
   ]
  },
  {
   "cell_type": "code",
   "execution_count": 12,
   "metadata": {},
   "outputs": [
    {
     "name": "stdout",
     "output_type": "stream",
     "text": [
      "Vocab size: 1894\n"
     ]
    }
   ],
   "source": [
    "tokenizer = keras.preprocessing.text.Tokenizer()\n",
    "tokenizer.fit_on_texts(questions+answers)\n",
    "VOCAB_SIZE = len(tokenizer.word_index)+1\n",
    "print(f\"Vocab size: {VOCAB_SIZE}\")\n",
    "\n",
    "vocab = []\n",
    "for word in tokenizer.word_index:\n",
    "    vocab.append(word)"
   ]
  },
  {
   "cell_type": "markdown",
   "metadata": {},
   "source": [
    "**Now that we have our tokenisers ready, we can start to tokenise every questions and answers**\n",
    "\n",
    "**Since neural networks prefers to accept identical shapes of input, we will pad all questions to the longest questions in the dataset**\n",
    "\n",
    "**The term encoder_input_data will be explained later**"
   ]
  },
  {
   "cell_type": "code",
   "execution_count": 13,
   "metadata": {},
   "outputs": [
    {
     "name": "stdout",
     "output_type": "stream",
     "text": [
      "[[ 18   3  78   6 782   0   0   0   0   0   0   0   0   0   0   0   0   0\n",
      "    0   0   0   0]\n",
      " [ 10   7   4 346   0   0   0   0   0   0   0   0   0   0   0   0   0   0\n",
      "    0   0   0   0]\n",
      " [ 10   7 783   0   0   0   0   0   0   0   0   0   0   0   0   0   0   0\n",
      "    0   0   0   0]\n",
      " [ 10   7 784   0   0   0   0   0   0   0   0   0   0   0   0   0   0   0\n",
      "    0   0   0   0]\n",
      " [ 10   7 785   0   0   0   0   0   0   0   0   0   0   0   0   0   0   0\n",
      "    0   0   0   0]]\n"
     ]
    }
   ],
   "source": [
    "tokenized_questions = tokenizer.texts_to_sequences(questions)\n",
    "maxlen_questions = max([len(x) for x in tokenized_questions])\n",
    "padded_questions = keras.preprocessing.sequence.pad_sequences(tokenized_questions, maxlen=maxlen_questions, padding='post')\n",
    "encoder_input_data = np.array(padded_questions)\n",
    "print(encoder_input_data[:5])"
   ]
  },
  {
   "cell_type": "markdown",
   "metadata": {},
   "source": [
    "**Similarly for answers, we will pad all answers to the longest answer in the dataset**\n",
    "\n",
    "**We need to tokenise the answers twice, one is used as label for our training and the other one will be our guided input. This will be further explained later as well. The 2 sequences are only offsetted by 1 position**"
   ]
  },
  {
   "cell_type": "code",
   "execution_count": 14,
   "metadata": {},
   "outputs": [
    {
     "name": "stdout",
     "output_type": "stream",
     "text": [
      "[[  2 105 949 399 138 101 400 950   1   0   0   0   0   0   0   0   0   0\n",
      "    0   0   0   0   0   0   0   0   0   0   0   0   0   0   0   0   0   0\n",
      "    0   0   0   0   0   0   0   0   0   0   0   0   0   0   0   0   0   0\n",
      "    0   0   0   0   0   0   0   0   0   0   0   0   0   0   0   0   0   0\n",
      "    0   0]\n",
      " [  2 951  16   7   4 952   8   6 115   1   0   0   0   0   0   0   0   0\n",
      "    0   0   0   0   0   0   0   0   0   0   0   0   0   0   0   0   0   0\n",
      "    0   0   0   0   0   0   0   0   0   0   0   0   0   0   0   0   0   0\n",
      "    0   0   0   0   0   0   0   0   0   0   0   0   0   0   0   0   0   0\n",
      "    0   0]\n",
      " [  2 953 566 954 955 956   1   0   0   0   0   0   0   0   0   0   0   0\n",
      "    0   0   0   0   0   0   0   0   0   0   0   0   0   0   0   0   0   0\n",
      "    0   0   0   0   0   0   0   0   0   0   0   0   0   0   0   0   0   0\n",
      "    0   0   0   0   0   0   0   0   0   0   0   0   0   0   0   0   0   0\n",
      "    0   0]\n",
      " [  2   6 567 201  17  52  47  38 297   8   6 298   8 299  14 401  22 957\n",
      "  958 959 214  11 960 961  14 962  39 963 964 390 965 966 568   1   0   0\n",
      "    0   0   0   0   0   0   0   0   0   0   0   0   0   0   0   0   0   0\n",
      "    0   0   0   0   0   0   0   0   0   0   0   0   0   0   0   0   0   0\n",
      "    0   0]\n",
      " [  2 471  63 115  36 175   9 373 967 968  56   8 569 969  38 159   8   6\n",
      "  570  14 970   8   6 298   8 299  14 401  42 300  38   6 571 572 106  42\n",
      "  971 573  44  47 972   8 300  38   6 571 973  17   6 102  14   6 974   1\n",
      "    0   0   0   0   0   0   0   0   0   0   0   0   0   0   0   0   0   0\n",
      "    0   0]]\n",
      "[[105 949 399 138 101 400 950   1   0   0   0   0   0   0   0   0   0   0\n",
      "    0   0   0   0   0   0   0   0   0   0   0   0   0   0   0   0   0   0\n",
      "    0   0   0   0   0   0   0   0   0   0   0   0   0   0   0   0   0   0\n",
      "    0   0   0   0   0   0   0   0   0   0   0   0   0   0   0   0   0   0\n",
      "    0   0]\n",
      " [951  16   7   4 952   8   6 115   1   0   0   0   0   0   0   0   0   0\n",
      "    0   0   0   0   0   0   0   0   0   0   0   0   0   0   0   0   0   0\n",
      "    0   0   0   0   0   0   0   0   0   0   0   0   0   0   0   0   0   0\n",
      "    0   0   0   0   0   0   0   0   0   0   0   0   0   0   0   0   0   0\n",
      "    0   0]\n",
      " [953 566 954 955 956   1   0   0   0   0   0   0   0   0   0   0   0   0\n",
      "    0   0   0   0   0   0   0   0   0   0   0   0   0   0   0   0   0   0\n",
      "    0   0   0   0   0   0   0   0   0   0   0   0   0   0   0   0   0   0\n",
      "    0   0   0   0   0   0   0   0   0   0   0   0   0   0   0   0   0   0\n",
      "    0   0]\n",
      " [  6 567 201  17  52  47  38 297   8   6 298   8 299  14 401  22 957 958\n",
      "  959 214  11 960 961  14 962  39 963 964 390 965 966 568   1   0   0   0\n",
      "    0   0   0   0   0   0   0   0   0   0   0   0   0   0   0   0   0   0\n",
      "    0   0   0   0   0   0   0   0   0   0   0   0   0   0   0   0   0   0\n",
      "    0   0]\n",
      " [471  63 115  36 175   9 373 967 968  56   8 569 969  38 159   8   6 570\n",
      "   14 970   8   6 298   8 299  14 401  42 300  38   6 571 572 106  42 971\n",
      "  573  44  47 972   8 300  38   6 571 973  17   6 102  14   6 974   1   0\n",
      "    0   0   0   0   0   0   0   0   0   0   0   0   0   0   0   0   0   0\n",
      "    0   0]]\n",
      "[[[0. 0. 0. ... 0. 0. 0.]\n",
      "  [0. 0. 0. ... 0. 0. 0.]\n",
      "  [0. 0. 0. ... 0. 0. 0.]\n",
      "  ...\n",
      "  [1. 0. 0. ... 0. 0. 0.]\n",
      "  [1. 0. 0. ... 0. 0. 0.]\n",
      "  [1. 0. 0. ... 0. 0. 0.]]\n",
      "\n",
      " [[0. 0. 0. ... 0. 0. 0.]\n",
      "  [0. 0. 0. ... 0. 0. 0.]\n",
      "  [0. 0. 0. ... 0. 0. 0.]\n",
      "  ...\n",
      "  [1. 0. 0. ... 0. 0. 0.]\n",
      "  [1. 0. 0. ... 0. 0. 0.]\n",
      "  [1. 0. 0. ... 0. 0. 0.]]\n",
      "\n",
      " [[0. 0. 0. ... 0. 0. 0.]\n",
      "  [0. 0. 0. ... 0. 0. 0.]\n",
      "  [0. 0. 0. ... 0. 0. 0.]\n",
      "  ...\n",
      "  [1. 0. 0. ... 0. 0. 0.]\n",
      "  [1. 0. 0. ... 0. 0. 0.]\n",
      "  [1. 0. 0. ... 0. 0. 0.]]\n",
      "\n",
      " [[0. 0. 0. ... 0. 0. 0.]\n",
      "  [0. 0. 0. ... 0. 0. 0.]\n",
      "  [0. 0. 0. ... 0. 0. 0.]\n",
      "  ...\n",
      "  [1. 0. 0. ... 0. 0. 0.]\n",
      "  [1. 0. 0. ... 0. 0. 0.]\n",
      "  [1. 0. 0. ... 0. 0. 0.]]\n",
      "\n",
      " [[0. 0. 0. ... 0. 0. 0.]\n",
      "  [0. 0. 0. ... 0. 0. 0.]\n",
      "  [0. 0. 0. ... 0. 0. 0.]\n",
      "  ...\n",
      "  [1. 0. 0. ... 0. 0. 0.]\n",
      "  [1. 0. 0. ... 0. 0. 0.]\n",
      "  [1. 0. 0. ... 0. 0. 0.]]]\n"
     ]
    }
   ],
   "source": [
    "tokenized_answers = tokenizer.texts_to_sequences(answers)\n",
    "maxlen_answers = max([len(x) for x in tokenized_answers])\n",
    "padded_answers = keras.preprocessing.sequence.pad_sequences(tokenized_answers, maxlen=maxlen_answers, padding='post')\n",
    "decoder_input_data = np.array(padded_answers)\n",
    "print(decoder_input_data[:5])\n",
    "\n",
    "\n",
    "for i in range(len(tokenized_answers)) :\n",
    "    tokenized_answers[i] = tokenized_answers[i][1:]\n",
    "padded_answers = keras.preprocessing.sequence.pad_sequences(tokenized_answers, maxlen=maxlen_answers, padding='post' )\n",
    "print(padded_answers[:5])\n",
    "onehot_answers = keras.utils.to_categorical(padded_answers, VOCAB_SIZE) #Since the output is going to be our label, we are one hot encoding it to make it categorical\n",
    "decoder_output_data = np.array(onehot_answers)\n",
    "print(decoder_output_data[:5])\n"
   ]
  },
  {
   "cell_type": "markdown",
   "metadata": {},
   "source": [
    "**<h4>Section 3.3: Modeling and Training</h4>**\n",
    "\n",
    "**We need a sequence to sequence model for this task, it consists of an encoder and a decoder**\n",
    "\n",
    "**The encoder will take the input and the decoder will produce the output**\n",
    "\n",
    "**The encoder will produce a context vector which will be used by the decoder to produce the output**\n",
    "\n",
    "**The context vector is the final hidden state of the encoder**\n",
    "\n",
    "**The decoder takes in both the context vector and the previously generated words to generate subsequent words, you can see it like a text continuation**\n",
    "\n",
    "**This is the reason why we need to tokenise the answers twice for training**\n",
    "\n",
    "**Both the encoder and decoder utilises embdedding layers as well as LSTM layers to estimate the context of words relative to its position**\n",
    "\n",
    "**Finally the output of the decoder will be connected to a dense layer to produce the outcome and compare with the label**"
   ]
  },
  {
   "cell_type": "code",
   "execution_count": 15,
   "metadata": {},
   "outputs": [
    {
     "name": "stdout",
     "output_type": "stream",
     "text": [
      "Model: \"model\"\n",
      "__________________________________________________________________________________________________\n",
      " Layer (type)                Output Shape                 Param #   Connected to                  \n",
      "==================================================================================================\n",
      " input_1 (InputLayer)        [(None, 22)]                 0         []                            \n",
      "                                                                                                  \n",
      " input_2 (InputLayer)        [(None, 74)]                 0         []                            \n",
      "                                                                                                  \n",
      " embedding_1 (Embedding)     (None, 22, 200)              378800    ['input_1[0][0]']             \n",
      "                                                                                                  \n",
      " embedding_2 (Embedding)     (None, 74, 200)              378800    ['input_2[0][0]']             \n",
      "                                                                                                  \n",
      " lstm_1 (LSTM)               [(None, 200),                320800    ['embedding_1[0][0]']         \n",
      "                              (None, 200),                                                        \n",
      "                              (None, 200)]                                                        \n",
      "                                                                                                  \n",
      " lstm_2 (LSTM)               [(None, 74, 200),            320800    ['embedding_2[0][0]',         \n",
      "                              (None, 200),                           'lstm_1[0][1]',              \n",
      "                              (None, 200)]                           'lstm_1[0][2]']              \n",
      "                                                                                                  \n",
      " dense_1 (Dense)             (None, 74, 1894)             380694    ['lstm_2[0][0]']              \n",
      "                                                                                                  \n",
      "==================================================================================================\n",
      "Total params: 1779894 (6.79 MB)\n",
      "Trainable params: 1779894 (6.79 MB)\n",
      "Non-trainable params: 0 (0.00 Byte)\n",
      "__________________________________________________________________________________________________\n"
     ]
    }
   ],
   "source": [
    "encoder_inputs = tf.keras.layers.Input(shape=(maxlen_questions, )) #We set the input shape of the encoder to the max length of the input data which we padded to\n",
    "encoder_embedding = tf.keras.layers.Embedding(VOCAB_SIZE, 200, mask_zero=True) (encoder_inputs) \n",
    "encoder_outputs, state_h, state_c = tf.keras.layers.LSTM(200, return_state=True)(encoder_embedding) #We'll have the LSTM to return a 200 dimensional output and the hidden and cell states as the neural network resurses\n",
    "encoder_states = [state_h, state_c] #The combined hidden and cell states of the encoder is the context vector which we will use in the decoder\n",
    "\n",
    "decoder_inputs = tf.keras.layers.Input(shape=(maxlen_answers,  )) #similarly, set the input shape of the decoder to the max length of the input data which we padded to\n",
    "decoder_embedding = tf.keras.layers.Embedding(VOCAB_SIZE, 200, mask_zero=True) (decoder_inputs)\n",
    "decoder_lstm = tf.keras.layers.LSTM(200, return_state=True, return_sequences=True)\n",
    "decoder_outputs, _, _ = decoder_lstm(decoder_embedding, initial_state=encoder_states) #The initial state of this decoder will be the context vector generated, and we are no longer interested in the hidden and cell states of the decoder, only the output.\n",
    "decoder_dense = tf.keras.layers.Dense(VOCAB_SIZE, activation=tf.keras.activations.softmax) \n",
    "output = decoder_dense (decoder_outputs) #The output of the decoder will be a dense layer with a softmax activation, which will output a one hot encoded vector of the predicted word\n",
    "\n",
    "model = tf.keras.models.Model([encoder_inputs, decoder_inputs], output)\n",
    "model.compile(optimizer=tf.keras.optimizers.legacy.RMSprop(), loss='categorical_crossentropy')\n",
    "\n",
    "model.summary()"
   ]
  },
  {
   "cell_type": "code",
   "execution_count": 16,
   "metadata": {},
   "outputs": [
    {
     "data": {
      "image/png": "[encoded data removed]",
      "text/plain": [
       "<IPython.core.display.Image object>"
      ]
     },
     "execution_count": 16,
     "metadata": {},
     "output_type": "execute_result"
    }
   ],
   "source": [
    "keras.utils.plot_model(model, show_shapes=True)"
   ]
  },
  {
   "cell_type": "markdown",
   "metadata": {},
   "source": [
    "**Since the dataset is small and there are not alot of parameters to train, let us try to fit the model with a batch size of 16 and epoch number of 150**"
   ]
  },
  {
   "cell_type": "code",
   "execution_count": 41,
   "metadata": {},
   "outputs": [
    {
     "name": "stdout",
     "output_type": "stream",
     "text": [
      "Epoch 1/150\n",
      "36/36 [==============================] - 5s 61ms/step - loss: 6.2065\n",
      "Epoch 2/150\n",
      "36/36 [==============================] - 2s 63ms/step - loss: 5.5191\n",
      "Epoch 3/150\n",
      "36/36 [==============================] - 2s 68ms/step - loss: 5.3021\n",
      "Epoch 4/150\n",
      "36/36 [==============================] - 2s 62ms/step - loss: 5.1835\n",
      "Epoch 5/150\n",
      "36/36 [==============================] - 2s 67ms/step - loss: 5.0494\n",
      "Epoch 6/150\n",
      "36/36 [==============================] - 2s 69ms/step - loss: 4.8927\n",
      "Epoch 7/150\n",
      "36/36 [==============================] - 3s 70ms/step - loss: 4.7339\n",
      "Epoch 8/150\n",
      "36/36 [==============================] - 3s 73ms/step - loss: 4.5996\n",
      "Epoch 9/150\n",
      "36/36 [==============================] - 2s 68ms/step - loss: 4.4785\n",
      "Epoch 10/150\n",
      "36/36 [==============================] - 2s 69ms/step - loss: 4.3488\n",
      "Epoch 11/150\n",
      "36/36 [==============================] - 2s 68ms/step - loss: 4.2530\n",
      "Epoch 12/150\n",
      "36/36 [==============================] - 3s 70ms/step - loss: 4.1097\n",
      "Epoch 13/150\n",
      "36/36 [==============================] - 2s 68ms/step - loss: 3.9993\n",
      "Epoch 14/150\n",
      "36/36 [==============================] - 2s 68ms/step - loss: 3.9198\n",
      "Epoch 15/150\n",
      "36/36 [==============================] - 3s 71ms/step - loss: 3.8438\n",
      "Epoch 16/150\n",
      "36/36 [==============================] - 3s 71ms/step - loss: 3.7200\n",
      "Epoch 17/150\n",
      "36/36 [==============================] - 2s 65ms/step - loss: 3.6480\n",
      "Epoch 18/150\n",
      "36/36 [==============================] - 2s 68ms/step - loss: 3.5499\n",
      "Epoch 19/150\n",
      "36/36 [==============================] - 2s 65ms/step - loss: 3.4839\n",
      "Epoch 20/150\n",
      "36/36 [==============================] - 2s 65ms/step - loss: 3.3920\n",
      "Epoch 21/150\n",
      "36/36 [==============================] - 2s 65ms/step - loss: 3.3027\n",
      "Epoch 22/150\n",
      "36/36 [==============================] - 2s 65ms/step - loss: 3.2203\n",
      "Epoch 23/150\n",
      "36/36 [==============================] - 2s 69ms/step - loss: 3.1159\n",
      "Epoch 24/150\n",
      "36/36 [==============================] - 2s 64ms/step - loss: 3.0444\n",
      "Epoch 25/150\n",
      "36/36 [==============================] - 2s 67ms/step - loss: 2.9769\n",
      "Epoch 26/150\n",
      "36/36 [==============================] - 2s 67ms/step - loss: 2.8807\n",
      "Epoch 27/150\n",
      "36/36 [==============================] - 2s 63ms/step - loss: 2.8222\n",
      "Epoch 28/150\n",
      "36/36 [==============================] - 2s 65ms/step - loss: 2.7438\n",
      "Epoch 29/150\n",
      "36/36 [==============================] - 2s 65ms/step - loss: 2.6503\n",
      "Epoch 30/150\n",
      "36/36 [==============================] - 2s 65ms/step - loss: 2.5586\n",
      "Epoch 31/150\n",
      "36/36 [==============================] - 2s 66ms/step - loss: 2.4967\n",
      "Epoch 32/150\n",
      "36/36 [==============================] - 3s 72ms/step - loss: 2.4144\n",
      "Epoch 33/150\n",
      "36/36 [==============================] - 2s 68ms/step - loss: 2.3389\n",
      "Epoch 34/150\n",
      "36/36 [==============================] - 2s 69ms/step - loss: 2.2571\n",
      "Epoch 35/150\n",
      "36/36 [==============================] - 3s 70ms/step - loss: 2.1917\n",
      "Epoch 36/150\n",
      "36/36 [==============================] - 2s 66ms/step - loss: 2.1194\n",
      "Epoch 37/150\n",
      "36/36 [==============================] - 2s 67ms/step - loss: 2.0371\n",
      "Epoch 38/150\n",
      "36/36 [==============================] - 2s 69ms/step - loss: 1.9587\n",
      "Epoch 39/150\n",
      "36/36 [==============================] - 3s 71ms/step - loss: 1.8985\n",
      "Epoch 40/150\n",
      "36/36 [==============================] - 2s 69ms/step - loss: 1.8140\n",
      "Epoch 41/150\n",
      "36/36 [==============================] - 3s 71ms/step - loss: 1.7544\n",
      "Epoch 42/150\n",
      "36/36 [==============================] - 3s 70ms/step - loss: 1.7039\n",
      "Epoch 43/150\n",
      "36/36 [==============================] - 3s 74ms/step - loss: 1.6238\n",
      "Epoch 44/150\n",
      "36/36 [==============================] - 3s 74ms/step - loss: 1.5724\n",
      "Epoch 45/150\n",
      "36/36 [==============================] - 3s 72ms/step - loss: 1.5048\n",
      "Epoch 46/150\n",
      "36/36 [==============================] - 3s 74ms/step - loss: 1.4469\n",
      "Epoch 47/150\n",
      "36/36 [==============================] - 2s 64ms/step - loss: 1.3915\n",
      "Epoch 48/150\n",
      "36/36 [==============================] - 2s 66ms/step - loss: 1.3285\n",
      "Epoch 49/150\n",
      "36/36 [==============================] - 2s 67ms/step - loss: 1.2724\n",
      "Epoch 50/150\n",
      "36/36 [==============================] - 3s 71ms/step - loss: 1.2245\n",
      "Epoch 51/150\n",
      "36/36 [==============================] - 2s 69ms/step - loss: 1.1507\n",
      "Epoch 52/150\n",
      "36/36 [==============================] - 3s 71ms/step - loss: 1.1169\n",
      "Epoch 53/150\n",
      "36/36 [==============================] - 2s 68ms/step - loss: 1.0578\n",
      "Epoch 54/150\n",
      "36/36 [==============================] - 2s 69ms/step - loss: 1.0221\n",
      "Epoch 55/150\n",
      "36/36 [==============================] - 3s 70ms/step - loss: 0.9764\n",
      "Epoch 56/150\n",
      "36/36 [==============================] - 2s 66ms/step - loss: 0.9289\n",
      "Epoch 57/150\n",
      "36/36 [==============================] - 3s 70ms/step - loss: 0.8805\n",
      "Epoch 58/150\n",
      "36/36 [==============================] - 3s 69ms/step - loss: 0.8422\n",
      "Epoch 59/150\n",
      "36/36 [==============================] - 2s 67ms/step - loss: 0.8002\n",
      "Epoch 60/150\n",
      "36/36 [==============================] - 3s 71ms/step - loss: 0.7615\n",
      "Epoch 61/150\n",
      "36/36 [==============================] - 2s 65ms/step - loss: 0.7318\n",
      "Epoch 62/150\n",
      "36/36 [==============================] - 3s 71ms/step - loss: 0.6912\n",
      "Epoch 63/150\n",
      "36/36 [==============================] - 2s 69ms/step - loss: 0.6512\n",
      "Epoch 64/150\n",
      "36/36 [==============================] - 2s 69ms/step - loss: 0.6198\n",
      "Epoch 65/150\n",
      "36/36 [==============================] - 3s 70ms/step - loss: 0.5961\n",
      "Epoch 66/150\n",
      "36/36 [==============================] - 2s 69ms/step - loss: 0.5603\n",
      "Epoch 67/150\n",
      "36/36 [==============================] - 3s 70ms/step - loss: 0.5303\n",
      "Epoch 68/150\n",
      "36/36 [==============================] - 3s 71ms/step - loss: 0.5014\n",
      "Epoch 69/150\n",
      "36/36 [==============================] - 3s 75ms/step - loss: 0.4775\n",
      "Epoch 70/150\n",
      "36/36 [==============================] - 2s 69ms/step - loss: 0.4559\n",
      "Epoch 71/150\n",
      "36/36 [==============================] - 3s 74ms/step - loss: 0.4344\n",
      "Epoch 72/150\n",
      "36/36 [==============================] - 3s 70ms/step - loss: 0.4132\n",
      "Epoch 73/150\n",
      "36/36 [==============================] - 2s 68ms/step - loss: 0.3890\n",
      "Epoch 74/150\n",
      "36/36 [==============================] - 2s 67ms/step - loss: 0.3722\n",
      "Epoch 75/150\n",
      "36/36 [==============================] - 2s 66ms/step - loss: 0.3465\n",
      "Epoch 76/150\n",
      "36/36 [==============================] - 2s 68ms/step - loss: 0.3343\n",
      "Epoch 77/150\n",
      "36/36 [==============================] - 3s 75ms/step - loss: 0.3176\n",
      "Epoch 78/150\n",
      "36/36 [==============================] - 3s 71ms/step - loss: 0.2962\n",
      "Epoch 79/150\n",
      "36/36 [==============================] - 3s 76ms/step - loss: 0.2825\n",
      "Epoch 80/150\n",
      "36/36 [==============================] - 3s 72ms/step - loss: 0.2694\n",
      "Epoch 81/150\n",
      "36/36 [==============================] - 3s 72ms/step - loss: 0.2565\n",
      "Epoch 82/150\n",
      "36/36 [==============================] - 3s 80ms/step - loss: 0.2431\n",
      "Epoch 83/150\n",
      "36/36 [==============================] - 3s 74ms/step - loss: 0.2299\n",
      "Epoch 84/150\n",
      "36/36 [==============================] - 3s 69ms/step - loss: 0.2199\n",
      "Epoch 85/150\n",
      "36/36 [==============================] - 3s 72ms/step - loss: 0.2119\n",
      "Epoch 86/150\n",
      "36/36 [==============================] - 2s 69ms/step - loss: 0.1987\n",
      "Epoch 87/150\n",
      "36/36 [==============================] - 2s 67ms/step - loss: 0.1924\n",
      "Epoch 88/150\n",
      "36/36 [==============================] - 2s 67ms/step - loss: 0.1836\n",
      "Epoch 89/150\n",
      "36/36 [==============================] - 3s 70ms/step - loss: 0.1760\n",
      "Epoch 90/150\n",
      "36/36 [==============================] - 2s 67ms/step - loss: 0.1686\n",
      "Epoch 91/150\n",
      "36/36 [==============================] - 2s 69ms/step - loss: 0.1608\n",
      "Epoch 92/150\n",
      "36/36 [==============================] - 2s 67ms/step - loss: 0.1575\n",
      "Epoch 93/150\n",
      "36/36 [==============================] - 2s 67ms/step - loss: 0.1469\n",
      "Epoch 94/150\n",
      "36/36 [==============================] - 2s 65ms/step - loss: 0.1434\n",
      "Epoch 95/150\n",
      "36/36 [==============================] - 2s 67ms/step - loss: 0.1380\n",
      "Epoch 96/150\n",
      "36/36 [==============================] - 3s 70ms/step - loss: 0.1338\n",
      "Epoch 97/150\n",
      "36/36 [==============================] - 2s 66ms/step - loss: 0.1299\n",
      "Epoch 98/150\n",
      "36/36 [==============================] - 2s 67ms/step - loss: 0.1239\n",
      "Epoch 99/150\n",
      "36/36 [==============================] - 2s 69ms/step - loss: 0.1211\n",
      "Epoch 100/150\n",
      "36/36 [==============================] - 2s 66ms/step - loss: 0.1164\n",
      "Epoch 101/150\n",
      "36/36 [==============================] - 2s 67ms/step - loss: 0.1108\n",
      "Epoch 102/150\n",
      "36/36 [==============================] - 2s 66ms/step - loss: 0.1073\n",
      "Epoch 103/150\n",
      "36/36 [==============================] - 3s 71ms/step - loss: 0.1066\n",
      "Epoch 104/150\n",
      "36/36 [==============================] - 3s 73ms/step - loss: 0.1076\n",
      "Epoch 105/150\n",
      "36/36 [==============================] - 3s 74ms/step - loss: 0.1016\n",
      "Epoch 106/150\n",
      "36/36 [==============================] - 2s 70ms/step - loss: 0.1001\n",
      "Epoch 107/150\n",
      "36/36 [==============================] - 3s 74ms/step - loss: 0.0965\n",
      "Epoch 108/150\n",
      "36/36 [==============================] - 3s 71ms/step - loss: 0.0959\n",
      "Epoch 109/150\n",
      "36/36 [==============================] - 3s 71ms/step - loss: 0.0941\n",
      "Epoch 110/150\n",
      "36/36 [==============================] - 2s 68ms/step - loss: 0.0947\n",
      "Epoch 111/150\n",
      "36/36 [==============================] - 3s 73ms/step - loss: 0.0899\n",
      "Epoch 112/150\n",
      "36/36 [==============================] - 3s 69ms/step - loss: 0.0917\n",
      "Epoch 113/150\n",
      "36/36 [==============================] - 2s 68ms/step - loss: 0.0879\n",
      "Epoch 114/150\n",
      "36/36 [==============================] - 2s 66ms/step - loss: 0.0868\n",
      "Epoch 115/150\n",
      "36/36 [==============================] - 3s 73ms/step - loss: 0.0854\n",
      "Epoch 116/150\n",
      "36/36 [==============================] - 2s 66ms/step - loss: 0.0825\n",
      "Epoch 117/150\n",
      "36/36 [==============================] - 3s 72ms/step - loss: 0.0819\n",
      "Epoch 118/150\n",
      "36/36 [==============================] - 3s 71ms/step - loss: 0.0827\n",
      "Epoch 119/150\n",
      "36/36 [==============================] - 3s 70ms/step - loss: 0.0805\n",
      "Epoch 120/150\n",
      "36/36 [==============================] - 3s 70ms/step - loss: 0.0806\n",
      "Epoch 121/150\n",
      "36/36 [==============================] - 3s 70ms/step - loss: 0.0789\n",
      "Epoch 122/150\n",
      "36/36 [==============================] - 2s 67ms/step - loss: 0.0803\n",
      "Epoch 123/150\n",
      "36/36 [==============================] - 2s 67ms/step - loss: 0.0799\n",
      "Epoch 124/150\n",
      "36/36 [==============================] - 2s 64ms/step - loss: 0.0760\n",
      "Epoch 125/150\n",
      "36/36 [==============================] - 2s 64ms/step - loss: 0.0763\n",
      "Epoch 126/150\n",
      "36/36 [==============================] - 2s 63ms/step - loss: 0.0757\n",
      "Epoch 127/150\n",
      "36/36 [==============================] - 2s 66ms/step - loss: 0.0774\n",
      "Epoch 128/150\n",
      "36/36 [==============================] - 2s 68ms/step - loss: 0.0739\n",
      "Epoch 129/150\n",
      "36/36 [==============================] - 2s 69ms/step - loss: 0.0740\n",
      "Epoch 130/150\n",
      "36/36 [==============================] - 3s 71ms/step - loss: 0.0736\n",
      "Epoch 131/150\n",
      "36/36 [==============================] - 3s 70ms/step - loss: 0.0715\n",
      "Epoch 132/150\n",
      "36/36 [==============================] - 2s 67ms/step - loss: 0.0735\n",
      "Epoch 133/150\n",
      "36/36 [==============================] - 2s 64ms/step - loss: 0.0710\n",
      "Epoch 134/150\n",
      "36/36 [==============================] - 2s 62ms/step - loss: 0.0733\n",
      "Epoch 135/150\n",
      "36/36 [==============================] - 2s 63ms/step - loss: 0.0718\n",
      "Epoch 136/150\n",
      "36/36 [==============================] - 2s 64ms/step - loss: 0.0709\n",
      "Epoch 137/150\n",
      "36/36 [==============================] - 2s 65ms/step - loss: 0.0721\n",
      "Epoch 138/150\n",
      "36/36 [==============================] - 2s 65ms/step - loss: 0.0715\n",
      "Epoch 139/150\n",
      "36/36 [==============================] - 2s 62ms/step - loss: 0.0720\n",
      "Epoch 140/150\n",
      "36/36 [==============================] - 2s 65ms/step - loss: 0.0699\n",
      "Epoch 141/150\n",
      "36/36 [==============================] - 2s 65ms/step - loss: 0.0705\n",
      "Epoch 142/150\n",
      "36/36 [==============================] - 2s 65ms/step - loss: 0.0698\n",
      "Epoch 143/150\n",
      "36/36 [==============================] - 2s 63ms/step - loss: 0.0705\n",
      "Epoch 144/150\n",
      "36/36 [==============================] - 2s 66ms/step - loss: 0.0705\n",
      "Epoch 145/150\n",
      "36/36 [==============================] - 2s 64ms/step - loss: 0.0678\n",
      "Epoch 146/150\n",
      "36/36 [==============================] - 2s 66ms/step - loss: 0.0716\n",
      "Epoch 147/150\n",
      "36/36 [==============================] - 2s 65ms/step - loss: 0.0669\n",
      "Epoch 148/150\n",
      "36/36 [==============================] - 2s 66ms/step - loss: 0.0686\n",
      "Epoch 149/150\n",
      "36/36 [==============================] - 2s 66ms/step - loss: 0.0667\n",
      "Epoch 150/150\n",
      "36/36 [==============================] - 2s 66ms/step - loss: 0.0670\n"
     ]
    },
    {
     "name": "stderr",
     "output_type": "stream",
     "text": [
      "/Users/chenyijie/anaconda3/envs/machine_learning/lib/python3.11/site-packages/keras/src/engine/training.py:3103: UserWarning: You are saving your model as an HDF5 file via `model.save()`. This file format is considered legacy. We recommend using instead the native Keras format, e.g. `model.save('my_model.keras')`.\n",
      "  saving_api.save_model(\n"
     ]
    }
   ],
   "source": [
    "model.fit([encoder_input_data , decoder_input_data], decoder_output_data, batch_size=16, epochs=150) \n",
    "model.save('model.keras')  "
   ]
  },
  {
   "cell_type": "markdown",
   "metadata": {},
   "source": [
    "**<h4> Section 3.4: Deployment</h4>**\n",
    "\n",
    "**To use our trained network to predict the answer to a question. We have to restructure the model as now we do not have a completed answer to input into the decoder model but only the start token and encoder states.**\n",
    "\n",
    "**We basically need our decoder to feed it's own output as the inputs for next step**"
   ]
  },
  {
   "cell_type": "code",
   "execution_count": 45,
   "metadata": {},
   "outputs": [],
   "source": [
    "def make_inference_models():\n",
    "    \n",
    "    #First we define the encoder model, which takes in a tokenised question as input, and outputs the hidden state and cell state\n",
    "    #The hidden states are given by the embedding layer, and the cell states are given by the LSTM layer which we trained earlier\n",
    "    encoder_model = tf.keras.models.Model(encoder_inputs, encoder_states)\n",
    "    \n",
    "    #Next we define the input data for the decoder model, which is the encoder states output by the encoder model. It is of sized 200 as specified by our encoder LSTM layer\n",
    "    decoder_state_input_h = tf.keras.layers.Input(shape=(200, ))\n",
    "    decoder_state_input_c = tf.keras.layers.Input(shape=(200, ))\n",
    "    \n",
    "    decoder_states_inputs = [decoder_state_input_h, decoder_state_input_c]\n",
    "    \n",
    "    #The output of the decoder model is given by the trained LSTM layer, which takes in the output of embedding layer which we trained earlier and the encoder states as inputs\n",
    "    decoder_outputs, state_h, state_c = decoder_lstm(\n",
    "        decoder_embedding , initial_state=decoder_states_inputs)\n",
    "    decoder_states = [state_h, state_c]\n",
    "    decoder_outputs = decoder_dense(decoder_outputs)\n",
    "    \n",
    "    #Finally we define the decoder model, which takes in the decoder inputs and the encoder states, and outputs the decoder outputs and the decoder states\n",
    "    decoder_model = tf.keras.models.Model(\n",
    "        [decoder_inputs] + decoder_states_inputs,\n",
    "        [decoder_outputs] + decoder_states\n",
    "    )\n",
    "    \n",
    "    return encoder_model , decoder_model"
   ]
  },
  {
   "cell_type": "markdown",
   "metadata": {},
   "source": [
    "**Finally, we define a functions that processes the human input, making it of suitable size for prediction**"
   ]
  },
  {
   "cell_type": "code",
   "execution_count": 46,
   "metadata": {},
   "outputs": [],
   "source": [
    "#To process a input, we define a function that tokenises the string input, and then pads it to the maximum length of the questions\n",
    "def str_to_tokens(sentence: str):\n",
    "    words = sentence.lower().split()\n",
    "    tokens_list = list()\n",
    "    for word in words:\n",
    "        tokens_list.append(tokenizer.word_index[word]) \n",
    "    return keras.preprocessing.sequence.pad_sequences([tokens_list], maxlen=maxlen_questions, padding='post')"
   ]
  },
  {
   "cell_type": "markdown",
   "metadata": {},
   "source": [
    "**Time to take the chatbot to a real test!**\n",
    "\n",
    "**We can see that the chatbot have a decent accuracy in replying questions. GOod job!**"
   ]
  },
  {
   "cell_type": "code",
   "execution_count": 144,
   "metadata": {},
   "outputs": [
    {
     "name": "stdout",
     "output_type": "stream",
     "text": [
      " sorry my body isn't built just yet i reside only here for now end\n"
     ]
    }
   ],
   "source": [
    "enc_model , dec_model = make_inference_models()\n",
    "\n",
    "#Our model is now trained and we can use it to build a mini chatbot!\n",
    "#We can now use the encoder model to get the encoder states for a given question, and then use the decoder model to get the answer\n",
    "\n",
    "# states_values = enc_model.predict(str_to_tokens(input('Enter question : ')), verbose=0)\n",
    "states_values = enc_model.predict(str_to_tokens('can you move'), verbose=0) #Use the previous line to ask for an input when deploying the model\n",
    "decoder_start_seq = np.zeros((1,1))\n",
    "decoder_start_seq[0, 0] = tokenizer.word_index['start']\n",
    "stop_condition = False\n",
    "decoded_translation = ''\n",
    "\n",
    "#We will loop through the decoder predictions and apped the word into a list until we reach the end token or the maximum length of the answer\n",
    "while not stop_condition :\n",
    "    dec_outputs , h , c = dec_model.predict([decoder_start_seq] + states_values, verbose=0) \n",
    "    sampled_word_index = np.argmax(dec_outputs[0, -1, :]) #This replaces the dense layer in our previous model and returns the index of the word with the highest probability\n",
    "    sampled_word = None\n",
    "    for word, index in tokenizer.word_index.items() :\n",
    "        if sampled_word_index == index :\n",
    "            decoded_translation += ' {}'.format(word) #Append the word generated to the decoded translation\n",
    "            sampled_word = word\n",
    "    \n",
    "    if sampled_word == 'end' or len(decoded_translation.split()) > maxlen_answers:\n",
    "        stop_condition = True\n",
    "    \n",
    "    #We will update the decoder input to the word we just predicted, and update the states values to the new states    \n",
    "    decoder_start_seq = np.zeros((1 , 1))  \n",
    "    decoder_start_seq[0, 0] = sampled_word_index #Update the decoder input to the word we just predicted\n",
    "    states_values = [h, c] \n",
    "\n",
    "print(decoded_translation)\n"
   ]
  }
 ],
 "metadata": {
  "kernelspec": {
   "display_name": "machine_learning",
   "language": "python",
   "name": "python3"
  },
  "language_info": {
   "codemirror_mode": {
    "name": "ipython",
    "version": 3
   },
   "file_extension": ".py",
   "mimetype": "text/x-python",
   "name": "python",
   "nbconvert_exporter": "python",
   "pygments_lexer": "ipython3",
   "version": "3.11.7"
  }
 },
 "nbformat": 4,
 "nbformat_minor": 2
}
